{
 "cells": [
  {
   "cell_type": "code",
   "execution_count": 51,
   "metadata": {
    "tags": [
     "outputPrepend"
    ]
   },
   "outputs": [],
   "source": [
    "from bs4 import BeautifulSoup\n",
    "import requests\n",
    "import numpy as np\n",
    "from tabulate import tabulate\n",
    "import os"
   ]
  },
  {
   "cell_type": "code",
   "execution_count": 52,
   "metadata": {},
   "outputs": [],
   "source": [
    "def generate_url(search_string):\n",
    "    search_string = search_string.strip().replace(\" \", \"%20\")\n",
    "    url = r'https://www.fiverr.com/search/gigs?query='+ search_string + r'&source=top-bar&search_in=everywhere&search-autocomplete-original-term='+ search_string\n",
    "    return url"
   ]
  },
  {
   "cell_type": "code",
   "execution_count": 53,
   "metadata": {},
   "outputs": [],
   "source": [
    "def get_random_ua():\n",
    "    random_ua = ''\n",
    "    ua_file = 'UserAgents.txt'\n",
    "    try:\n",
    "        with open(ua_file) as f:\n",
    "            lines = f.readlines()\n",
    "        if len(lines) > 0:\n",
    "            prng = np.random.RandomState()\n",
    "            index = prng.permutation(len(lines) - 1)\n",
    "            idx = np.asarray(index, dtype=np.integer)[0]\n",
    "            random_ua = lines[int(idx)]\n",
    "    except Exception as ex:\n",
    "        print('Exception in random_ua')\n",
    "        print(str(ex))\n",
    "    finally:\n",
    "        return random_ua.strip('\\n')"
   ]
  },
  {
   "cell_type": "code",
   "execution_count": 54,
   "metadata": {
    "tags": [
     "outputPrepend"
    ]
   },
   "outputs": [],
   "source": [
    "# url = r'https://www.fiverr.com/search/gigs?query=machine%20learning&source=top-bar&search_in=everywhere&search-autocomplete-original-term=machine%20learning'\n",
    "\n",
    "def get_soup(search_string, print_soup=False):\n",
    "    headers = {\n",
    "        'user-agent': get_random_ua(),\n",
    "        'referrer': r'https://google.com',\n",
    "        'accept': r'*/*',\n",
    "        'accept-encoding': r'gzip, deflate, br',\n",
    "        'accept-language': r'en-US,en;q=0.9,bn;q=0.8',\n",
    "        'cache-control': r'no-cache',\n",
    "        'origin': r'https://www.fiverr.com',\n",
    "        'pragma': r'no-cache'\n",
    "    }\n",
    "    \n",
    "    url = generate_url(search_string)\n",
    "\n",
    "    try:\n",
    "        r = requests.get(url, headers=headers)\n",
    "        source = r.text\n",
    "        r.raise_for_status()\n",
    "    except requests.exceptions.HTTPError as errh:\n",
    "        print (\"Http Error:\",errh)\n",
    "        raise SystemExit(err)\n",
    "    except requests.exceptions.ConnectionError as errc:\n",
    "        print (\"Error Connecting:\",errc)\n",
    "        raise SystemExit(err)\n",
    "    except requests.exceptions.Timeout as errt:\n",
    "        print (\"Timeout Error:\",errt)\n",
    "        raise SystemExit(err)\n",
    "    except requests.exceptions.RequestException as err:\n",
    "        print (\"OOps: Something Else\",err)\n",
    "        raise SystemExit(err)\n",
    "\n",
    "    soup = BeautifulSoup(source, 'lxml')  # pip install lxml\n",
    "\n",
    "    if(print_soup is True):\n",
    "        with open(os.path.join(os.getcwd(), \"test.html\"), \"wb\") as f:\n",
    "            f.write(r.content)\n",
    "\n",
    "    return soup"
   ]
  },
  {
   "cell_type": "code",
   "execution_count": 55,
   "metadata": {},
   "outputs": [],
   "source": [
    "def extract_gig_info(gig):\n",
    "    # gig url\n",
    "    gig_url = 'https://www.fiverr.com' + gig.contents[0]['href']\n",
    "\n",
    "    # user info\n",
    "    seller_information = gig.contents[1].find(class_='seller-name')\n",
    "    user_id = seller_information.contents[0].contents[-1]\n",
    "    level = 0\n",
    "    if len(list(seller_information.contents)) >= 2:\n",
    "        level = seller_information.contents[1].text.lstrip('Level ').rstrip(' Seller')\n",
    "    user_info = {'user_id' : user_id,\n",
    "                 'level' : level }\n",
    "\n",
    "    # description\n",
    "    description = gig.contents[2].text.lstrip('I will ')\n",
    "\n",
    "    # rating\n",
    "    user_rating = gig.contents[3].text\n",
    "    stars, votes = user_rating.split('(')\n",
    "    stars = float(stars)\n",
    "    votes = int(votes.strip(\")\"))\n",
    "    rating = {'stars' : stars,\n",
    "              'votes' : votes}\n",
    "\n",
    "    # price starts from\n",
    "    price = gig.contents[4].text\n",
    "    price = float(price.split('$', 1)[1])\n",
    "\n",
    "    gig_info = {'url' : gig_url,\n",
    "                'user_info' : user_info,\n",
    "                'description' : description,\n",
    "                'rating' : rating,\n",
    "                'price' : price}\n",
    "\n",
    "    return gig_info"
   ]
  },
  {
   "cell_type": "code",
   "execution_count": 56,
   "metadata": {
    "tags": [
     "outputPrepend"
    ]
   },
   "outputs": [
    {
     "output_type": "stream",
     "name": "stdout",
     "text": "d:\\1. FAHIM\\1. Projects\\0. Personal\\Python\\3. FiverrCompetitiveAnalysis\\test.txt\n"
    }
   ],
   "source": [
    "soup = get_soup(r'Video editing', print_soup=True)"
   ]
  },
  {
   "cell_type": "code",
   "execution_count": 57,
   "metadata": {},
   "outputs": [
    {
     "output_type": "stream",
     "name": "stdout",
     "text": "24,565 Services available\nlist index out of range\n<div class=\"gig-wrapper card\" data-gig-id=\"131451169_0\">\n <a class=\"media\" href=\"/joshloveridge/provide-professional-video-editing-and-motion-graphics?context_referrer=search_gigs&amp;source=top-bar&amp;ref_ctx_id=71d7d05c-f8cd-4607-92ca-bc07b2d702d8&amp;pckg_id=1&amp;pos=1\" target=\"_blank\">\n  <div class=\"slider\">\n   <span class=\"arrow next\">\n   </span>\n   <div class=\"slides preview\">\n    <div class=\"slide-item active\" style=\"width:auto\">\n     <div class=\"player\">\n      <img alt=\"provide professional video editing and motion graphics\" loading=\"lazy\" src=\"https://fiverr-res.cloudinary.com/video/upload/so_2.569199,t_gig_cards_web/eyqpubj1pnbgdd9sa5jx.png\"/>\n      <span class=\"video-button-wrapper\">\n       <span class=\"video-button play\">\n       </span>\n       <svg class=\"video-player-progress\" viewbox=\"-2 -4 40 40\">\n        <circle class=\"progress-bar-background\" cx=\"18\" cy=\"14\" r=\"14\">\n        </circle>\n        <circle class=\"progress-bar\" cx=\"18\" cy=\"14\" r=\"14\" style=\"stroke-dasharray:100 100\">\n        </circle>\n       </svg>\n      </span>\n      <video>\n      </video>\n     </div>\n    </div>\n   </div>\n   <ul>\n    <li class=\"dot active\">\n    </li>\n    <li class=\"dot\">\n    </li>\n    <li class=\"dot\">\n    </li>\n    <li class=\"dot\">\n    </li>\n   </ul>\n   <span class=\"arrow prev\">\n   </span>\n  </div>\n </a>\n <div class=\"studio-popover-wrapper closed\">\n  <div class=\"seller-info text-body-2\">\n   <div class=\"inner-wrapper\">\n    <span class=\"seller-image\">\n     <figure class=\"fit-avatar-figure fit-avatar-circle-shape\" style=\"font-size:24px\">\n      <figcaption class=\"\">\n       L\n      </figcaption>\n      <span class=\"fit-avatar-image\" style=\"background-image:url(https://fiverr-res.cloudinary.com/t_profile_thumb,q_auto,f_auto/attachments/studio/profile_photo/d09117ddc08515a05f5c130bd4d8c796-1562000983272/Asset%201.png)\">\n      </span>\n     </figure>\n    </span>\n    <span class=\"seller-name\">\n     <a href=\"/studios/loveridge-designs?source=gig_cards&amp;ref_ctx_id=71d7d05c-f8cd-4607-92ca-bc07b2d702d8\" rel=\"nofollow noopener noreferrer\" target=\"_self\">\n      <span>\n       by\n       <!-- -->\n      </span>\n      Loveridge Designs\n     </a>\n    </span>\n   </div>\n   <div class=\"badge-wrapper\">\n    <div class=\"gig-badge studio\" data-hint=\"\">\n     Studio\n    </div>\n   </div>\n  </div>\n  <h3 class=\"text-display-7\">\n   <a href=\"/joshloveridge/provide-professional-video-editing-and-motion-graphics?context_referrer=search_gigs&amp;source=top-bar&amp;ref_ctx_id=71d7d05c-f8cd-4607-92ca-bc07b2d702d8&amp;pckg_id=1&amp;pos=1\" target=\"_blank\" title=\"Our studio will provide professional video editing and motion graphics\">\n    Our studio will provide professional video editing and motion graphics\n   </a>\n  </h3>\n  <div class=\"content-info\">\n   <div class=\"rating-wrapper\">\n    <span class=\"gig-rating text-body-2\">\n     <svg height=\"15\" viewbox=\"0 0 1792 1792\" width=\"15\" xmlns=\"http://www.w3.org/2000/svg\">\n      <path d=\"M1728 647q0 22-26 48l-363 354 86 500q1 7 1 20 0 21-10.5 35.5t-30.5 14.5q-19 0-40-12l-449-236-449 236q-22 12-40 12-21 0-31.5-14.5t-10.5-35.5q0-6 2-20l86-500-364-354q-25-27-25-48 0-37 56-46l502-73 225-455q19-41 49-41t49 41l225 455 502 73q56 9 56 46z\" fill=\"currentColor\">\n      </path>\n     </svg>\n     5.0\n     <span>\n      (\n      <!-- -->\n      1\n      <!-- -->\n      )\n     </span>\n    </span>\n   </div>\n  </div>\n </div>\n <footer>\n  <div class=\"gig-fav\">\n   <button class=\"icn-heart hint--top js-open-popup-join\" data-hint=\"Add to Saved\">\n    <span class=\"fit-icon\" style=\"width:16px;height:16px\">\n     <svg height=\"16\" viewbox=\"0 0 16 16\" width=\"16\" xmlns=\"http://www.w3.org/2000/svg\">\n      <path d=\"M14.4469 1.95625C12.7344 0.496875 10.1875 0.759375 8.61561 2.38125L7.99999 3.01562L7.38436 2.38125C5.81561 0.759375 3.26561 0.496875 1.55311 1.95625C-0.409388 3.63125 -0.512513 6.6375 1.24374 8.45312L7.29061 14.6969C7.68124 15.1 8.31561 15.1 8.70624 14.6969L14.7531 8.45312C16.5125 6.6375 16.4094 3.63125 14.4469 1.95625Z\">\n      </path>\n     </svg>\n    </span>\n   </button>\n  </div>\n  <a class=\"price\" href=\"/joshloveridge/provide-professional-video-editing-and-motion-graphics?context_referrer=search_gigs&amp;source=top-bar&amp;ref_ctx_id=71d7d05c-f8cd-4607-92ca-bc07b2d702d8&amp;pckg_id=1&amp;pos=1\" target=\"_blank\" title=\"$130\">\n   <small class=\"text-body-3\">\n    Starting at\n   </small>\n   $130\n  </a>\n </footer>\n</div>\n+---+----------------+-------+-------+----------------------------------------------------+-------+-------+\n|   |       ID       | Votes | Price |                    Description                     | Level | Stars |\n+---+----------------+-------+-------+----------------------------------------------------+-------+-------+\n| 0 |   doisdenos    |  16   | 25.0  |           do professional video editing            |   0   |  5.0  |\n| 1 |    sellanet    |  159  | 15.0  |          do great cinematic video editing          |   2   |  5.0  |\n| 2 |   retafilms    |  58   | 35.0  |        edit your music video professionally        |   1   |  4.9  |\n| 3 |    arif840     |  506  | 15.0  |          do video editing within 24 hours          |   2   |  4.8  |\n| 4 | sergiojordann  |  90   | 60.0  | professionally edit your gaming videos for youtube |   2   |  5.0  |\n| 5 |    suyogs1     |  61   | 10.0  |         create and edit compilation videos         |   1   |  4.9  |\n| 6 | madbeanshooper |  877  | 10.0  |  edit your videos professionally within 24 hours   |   2   |  5.0  |\n+---+----------------+-------+-------+----------------------------------------------------+-------+-------+\n"
    }
   ],
   "source": [
    "print(soup.find('div', class_='number-of-results').text)\n",
    "\n",
    "data = [[\"ID\", \"Votes\", \"Price\", \"Description\", \"Level\", \"Stars\"]]\n",
    "gigs = soup.find('div', class_='listing-container')\n",
    "for single_gig in gigs.find_all('div', class_='gig-wrapper card'):\n",
    "    try:\n",
    "        gig_info = extract_gig_info(single_gig)\n",
    "        data.append([gig_info['user_info']['user_id'],\n",
    "                     gig_info['rating']['votes'],\n",
    "                     gig_info['price'],\n",
    "                     gig_info['description'],\n",
    "                     gig_info['user_info']['level'],\n",
    "                     gig_info['rating']['stars']\n",
    "                     ])\n",
    "\n",
    "    except Exception as e:\n",
    "        print(e)\n",
    "        print(single_gig.prettify())\n",
    "\n",
    "print(tabulate(data, headers=\"firstrow\", showindex=True, tablefmt=\"pretty\"))"
   ]
  }
 ],
 "metadata": {
  "language_info": {
   "codemirror_mode": {
    "name": "ipython",
    "version": 3
   },
   "file_extension": ".py",
   "mimetype": "text/x-python",
   "name": "python",
   "nbconvert_exporter": "python",
   "pygments_lexer": "ipython3",
   "version": "3.8.2-final"
  },
  "orig_nbformat": 2,
  "kernelspec": {
   "name": "python38232bit23461a2a672f46efa2ae117a2d54f739",
   "display_name": "Python 3.8.2 32-bit"
  }
 },
 "nbformat": 4,
 "nbformat_minor": 2
}